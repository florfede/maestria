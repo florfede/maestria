{
 "cells": [
  {
   "cell_type": "markdown",
   "metadata": {},
   "source": [
    "<a id = \"1.0\"></a>\n",
    "<p style=\"font-size:30px;color:#16268a;font-family:'Avantgarde';text-align:center;border-radius:5px;\">\n",
    "<strong><i>Vectorización</i></strong></p> "
   ]
  },
  {
   "cell_type": "markdown",
   "metadata": {},
   "source": [
    "<a id = \"1.0\"></a>\n",
    "<p style=\"font-size:18px;color:#16268a;font-family:'Avantgarde';text-align:left;border-radius:5px;\">\n",
    "La <strong>vectorización</strong> es una herramienta de biblioteca SciKit-Learn, que toma un texto y devuelve cada palabra única como una característica con un recuento del número de veces aparece una palabra en el texto.<BR><BR>\n",
    "El texto no es estructurado, en consecuencia las técnica de vectorización permite <strong>generar un espacio de características</strong> para que pueda ser <strong>utilizado</strong> por los <strong>modelos de ciencia de datos</strong>.   \n",
    "</p> "
   ]
  },
  {
   "cell_type": "markdown",
   "metadata": {},
   "source": [
    "<a id = \"1.0\"></a>\n",
    "<p style=\"font-size:25px;color:#16268a;font-family:'Avantgarde';text-align:center;border-radius:5px;\">\n",
    "<strong>______________________________</strong></p> "
   ]
  },
  {
   "cell_type": "markdown",
   "metadata": {},
   "source": [
    "<a id = \"1.0\"></a>\n",
    "<p style=\"font-size:25px;color:#16268a;font-family:'Avantgarde';text-align:center;border-radius:5px;\">\n",
    "<strong><i>Bag of Word</i> - BOW</strong></p>"
   ]
  },
  {
   "cell_type": "markdown",
   "metadata": {},
   "source": [
    "<a id = \"1.0\"></a>\n",
    "<p style=\"font-size:18px;color:#16268a;font-family:'Avantgarde';text-align:left;border-radius:5px;\">\n",
    "Cada documento corresponde esta representado por una <strong>fila</strong>, cada token a una <strong>columna</strong> y como valor se asigna la <strong>cantidad</strong> de veces que esta ese token en el documento</p> "
   ]
  },
  {
   "cell_type": "code",
   "execution_count": 1,
   "metadata": {},
   "outputs": [],
   "source": [
    "#!pip install pattern   # Instalar solo una vez"
   ]
  },
  {
   "cell_type": "markdown",
   "metadata": {},
   "source": [
    "<a id = \"1.0\"></a>\n",
    "<p style=\"font-size:18px;color:#16268a;font-family:'Avantgarde';text-align:left;border-radius:5px;\">\n",
    "<strong>\n",
    "Web Mining module for Python</strong>: https://github.com/clips/pattern</p> "
   ]
  },
  {
   "cell_type": "markdown",
   "metadata": {},
   "source": [
    "<a id = \"1.0\"></a>\n",
    "<p style=\"font-size:20px;color:#16268a;font-family:'Avantgarde';text-align:left;border-radius:5px;\">\n",
    "<strong>Carga</strong> de Librerías</u></p> "
   ]
  },
  {
   "cell_type": "code",
   "execution_count": 9,
   "metadata": {},
   "outputs": [],
   "source": [
    "from sklearn.feature_extraction.text import CountVectorizer"
   ]
  },
  {
   "cell_type": "code",
   "execution_count": 8,
   "metadata": {},
   "outputs": [],
   "source": [
    "#!pip install Pattern"
   ]
  },
  {
   "cell_type": "markdown",
   "metadata": {},
   "source": [
    "<a id = \"1.0\"></a>\n",
    "<p style=\"font-size:18px;color:#16268a;font-family:'Avantgarde';text-align:left;border-radius:5px;\">\n",
    "<strong>\n",
    "sklearn.feature_extraction.text.CountVectorizer</strong>:<BR>https://scikit-learn.org/stable/modules/generated/sklearn.feature_extraction.text.CountVectorizer.html</p> "
   ]
  },
  {
   "cell_type": "code",
   "execution_count": 3,
   "metadata": {},
   "outputs": [],
   "source": [
    "from nltk.corpus import stopwords\n",
    "from nltk import word_tokenize\n",
    "from pattern.es import lemma\n",
    "import pandas as pd"
   ]
  },
  {
   "cell_type": "code",
   "execution_count": 4,
   "metadata": {},
   "outputs": [],
   "source": [
    "import pprint\n",
    "import warnings\n",
    "warnings.filterwarnings(\"ignore\")"
   ]
  },
  {
   "cell_type": "code",
   "execution_count": 5,
   "metadata": {},
   "outputs": [],
   "source": [
    "pp = pprint.PrettyPrinter(compact=False, width=120)"
   ]
  },
  {
   "cell_type": "markdown",
   "metadata": {},
   "source": [
    "<a id = \"1.0\"></a>\n",
    "<p style=\"font-size:20px;color:#16268a;font-family:'Avantgarde';text-align:left;border-radius:5px;\">\n",
    "Texto de prueba</p> "
   ]
  },
  {
   "cell_type": "code",
   "execution_count": 6,
   "metadata": {},
   "outputs": [],
   "source": [
    "texts=[\"El deporte es ideal para todas las edades\",\n",
    "       \"Las mayores deberían hacer mas deporte\", \n",
    "       \"Los adolecentes disfrutan del deporte\"]"
   ]
  },
  {
   "cell_type": "markdown",
   "metadata": {},
   "source": [
    "<a id = \"1.0\"></a>\n",
    "<p style=\"font-size:20px;color:#16268a;font-family:'Avantgarde';text-align:left;border-radius:5px;\">\n",
    "<strong>CountVectorizer</strong> con parametros de optimización</p> "
   ]
  },
  {
   "cell_type": "code",
   "execution_count": 10,
   "metadata": {},
   "outputs": [],
   "source": [
    "count_vectorizer = CountVectorizer(analyzer     = \"word\",\n",
    "                                   decode_error = \"ignore\",\n",
    "                                   encoding     = \"str\",\n",
    "                                   lowercase    = True,\n",
    "                                   stop_words   = stopwords.words(\"spanish\"),\n",
    "                                   strip_accents= \"ascii\",\n",
    "                                   tokenizer    = lambda texts: [lemma(t) for t in word_tokenize(texts) if (t not in stopwords.words('spanish'))]\n",
    "                                  )"
   ]
  },
  {
   "cell_type": "markdown",
   "metadata": {},
   "source": [
    "<a id = \"1.0\"></a>\n",
    "<p style=\"font-size:20px;color:#16268a;font-family:'Avantgarde';text-align:left;border-radius:5px;\">\n",
    "Se genera la <strong>vectorización</strong> con el el texto de prueba</p> "
   ]
  },
  {
   "cell_type": "code",
   "execution_count": 11,
   "metadata": {},
   "outputs": [],
   "source": [
    "data_vectorized = count_vectorizer.fit_transform(texts);"
   ]
  },
  {
   "cell_type": "markdown",
   "metadata": {},
   "source": [
    "<a id = \"1.0\"></a>\n",
    "<p style=\"font-size:20px;color:#16268a;font-family:'Avantgarde';text-align:left;border-radius:5px;\">\n",
    "Consulta del <strong>vocabulario</strong> generado</p> \n",
    "<p style=\"font-size:17px;color:#16268a;font-family:'Avantgarde';text-align:left;border-radius:5px;\">\n",
    "Una <strong>única</strong> entrada por palabra, ordenadas alfabeticamente sin <strong>StopWords</strong> y aplicado el proceos de <strong>Lematización</strong>.</p> "
   ]
  },
  {
   "cell_type": "code",
   "execution_count": 12,
   "metadata": {},
   "outputs": [
    {
     "name": "stdout",
     "output_type": "stream",
     "text": [
      "['adolecenter', 'deberiar', 'deportar', 'disfrutar', 'edader', 'hacer', 'ideal', 'mar', 'mayorar', 'todar']\n"
     ]
    }
   ],
   "source": [
    "pp.pprint(count_vectorizer.get_feature_names())"
   ]
  },
  {
   "cell_type": "markdown",
   "metadata": {},
   "source": [
    "<a id = \"1.0\"></a>\n",
    "<p style=\"font-size:20px;color:#16268a;font-family:'Avantgarde';text-align:left;border-radius:5px;\">\n",
    "Consultar el <strong>vector generado</strong></p> \n",
    "<p style=\"font-size:17px;color:#16268a;font-family:'Avantgarde';text-align:left;border-radius:5px;\">\n",
    "Cada <strong>fila</strong> representa la <strong>oracion de prueba</strong> y las <strong>columnas</strong> donde se encuentra la <strong>palabra del vocabulario</strong> generado.</p> "
   ]
  },
  {
   "cell_type": "code",
   "execution_count": 13,
   "metadata": {},
   "outputs": [],
   "source": [
    "toPrint= data_vectorized.toarray()"
   ]
  },
  {
   "cell_type": "code",
   "execution_count": 14,
   "metadata": {},
   "outputs": [
    {
     "name": "stdout",
     "output_type": "stream",
     "text": [
      "array([[0, 0, 1, 0, 1, 0, 1, 0, 0, 1],\n",
      "       [0, 1, 1, 0, 0, 1, 0, 1, 1, 0],\n",
      "       [1, 0, 1, 1, 0, 0, 0, 0, 0, 0]], dtype=int64)\n"
     ]
    }
   ],
   "source": [
    "pprint.pprint(toPrint, indent=5)"
   ]
  },
  {
   "cell_type": "markdown",
   "metadata": {},
   "source": [
    "<a id = \"1.0\"></a>\n",
    "<p style=\"font-size:18px;color:#16268a;font-family:'Avantgarde';text-align:left;border-radius:5px;\">\n",
    "De manera clara</p> "
   ]
  },
  {
   "cell_type": "code",
   "execution_count": 15,
   "metadata": {},
   "outputs": [
    {
     "data": {
      "text/html": [
       "<div>\n",
       "<style scoped>\n",
       "    .dataframe tbody tr th:only-of-type {\n",
       "        vertical-align: middle;\n",
       "    }\n",
       "\n",
       "    .dataframe tbody tr th {\n",
       "        vertical-align: top;\n",
       "    }\n",
       "\n",
       "    .dataframe thead th {\n",
       "        text-align: right;\n",
       "    }\n",
       "</style>\n",
       "<table border=\"1\" class=\"dataframe\">\n",
       "  <thead>\n",
       "    <tr style=\"text-align: right;\">\n",
       "      <th></th>\n",
       "      <th>adolecenter</th>\n",
       "      <th>deberiar</th>\n",
       "      <th>deportar</th>\n",
       "      <th>disfrutar</th>\n",
       "      <th>edader</th>\n",
       "      <th>hacer</th>\n",
       "      <th>ideal</th>\n",
       "      <th>mar</th>\n",
       "      <th>mayorar</th>\n",
       "      <th>todar</th>\n",
       "    </tr>\n",
       "  </thead>\n",
       "  <tbody>\n",
       "    <tr>\n",
       "      <th>0</th>\n",
       "      <td>0</td>\n",
       "      <td>0</td>\n",
       "      <td>1</td>\n",
       "      <td>0</td>\n",
       "      <td>1</td>\n",
       "      <td>0</td>\n",
       "      <td>1</td>\n",
       "      <td>0</td>\n",
       "      <td>0</td>\n",
       "      <td>1</td>\n",
       "    </tr>\n",
       "    <tr>\n",
       "      <th>1</th>\n",
       "      <td>0</td>\n",
       "      <td>1</td>\n",
       "      <td>1</td>\n",
       "      <td>0</td>\n",
       "      <td>0</td>\n",
       "      <td>1</td>\n",
       "      <td>0</td>\n",
       "      <td>1</td>\n",
       "      <td>1</td>\n",
       "      <td>0</td>\n",
       "    </tr>\n",
       "    <tr>\n",
       "      <th>2</th>\n",
       "      <td>1</td>\n",
       "      <td>0</td>\n",
       "      <td>1</td>\n",
       "      <td>1</td>\n",
       "      <td>0</td>\n",
       "      <td>0</td>\n",
       "      <td>0</td>\n",
       "      <td>0</td>\n",
       "      <td>0</td>\n",
       "      <td>0</td>\n",
       "    </tr>\n",
       "  </tbody>\n",
       "</table>\n",
       "</div>"
      ],
      "text/plain": [
       "   adolecenter  deberiar  deportar  disfrutar  edader  hacer  ideal  mar  \\\n",
       "0            0         0         1          0       1      0      1    0   \n",
       "1            0         1         1          0       0      1      0    1   \n",
       "2            1         0         1          1       0      0      0    0   \n",
       "\n",
       "   mayorar  todar  \n",
       "0        0      1  \n",
       "1        1      0  \n",
       "2        0      0  "
      ]
     },
     "execution_count": 15,
     "metadata": {},
     "output_type": "execute_result"
    }
   ],
   "source": [
    "pd.DataFrame.sparse.from_spmatrix(data_vectorized, columns=count_vectorizer.get_feature_names())"
   ]
  },
  {
   "cell_type": "markdown",
   "metadata": {},
   "source": [
    "<a id = \"1.0\"></a>\n",
    "<p style=\"font-size:17px;color:#16268a;font-family:'Avantgarde';text-align:left;border-radius:5px;\">\n",
    "<u>Consideraciones</u>:<BR><BR>\n",
    "<strong>No respeta el orden de las palabras</strong>, si se tiene dos oraciones diferentes pero con las mismas palabras serán iguales.<BR>   Ej. \"no, tengo dinero\" == \"no tengo dinero\"<BR>\n",
    "Para evitar esto, se suele generar nuevas palabras que representan la negación.<BR>\n",
    "Ej. \"no tengo dinero\" se transforma en \"no_tengo dinero\"<BR><BR>\n",
    "Generalmente se obtiene una <strong>dimensionalidad alta</strong>, se tendrá una característica por cada palabra en el corpus, como resultado se tiene una matriz dispersa, es decir la gran mayoría de los valores corresponden al 0.\n",
    "</p> \n",
    "\n",
    "\n",
    "\n"
   ]
  },
  {
   "cell_type": "markdown",
   "metadata": {},
   "source": [
    "<a id = \"1.0\"></a>\n",
    "<p style=\"font-size:25px;color:#16268a;font-family:'Avantgarde';text-align:center;border-radius:5px;\">\n",
    "<strong>______________________________</strong></p> "
   ]
  },
  {
   "cell_type": "markdown",
   "metadata": {},
   "source": [
    "<a id = \"1.0\"></a>\n",
    "<p style=\"font-size:20px;color:#16268a;font-family:'Avantgarde';text-align:center;border-radius:5px;\">\n",
    "<strong>Siguiente Tema</strong></p>"
   ]
  },
  {
   "cell_type": "markdown",
   "metadata": {},
   "source": [
    "<a id = \"1.0\"></a>\n",
    "<p style=\"font-size:25px;color:#16268a;font-family:'Avantgarde';text-align:center;border-radius:5px;\">\n",
    "<strong><i>Term Frequency - Inverse Document Frequency</i> - TF-IDF</strong></p>"
   ]
  },
  {
   "cell_type": "markdown",
   "metadata": {},
   "source": [
    "<a id = \"1.0\"></a>\n",
    "<p style=\"font-size:25px;color:#16268a;font-family:'Avantgarde';text-align:center;border-radius:5px;\">\n",
    "<strong>______________________________</strong></p> "
   ]
  }
 ],
 "metadata": {
  "kernelspec": {
   "display_name": "nlp",
   "language": "python",
   "name": "nlp"
  },
  "language_info": {
   "codemirror_mode": {
    "name": "ipython",
    "version": 3
   },
   "file_extension": ".py",
   "mimetype": "text/x-python",
   "name": "python",
   "nbconvert_exporter": "python",
   "pygments_lexer": "ipython3",
   "version": "3.8.13"
  }
 },
 "nbformat": 4,
 "nbformat_minor": 4
}
